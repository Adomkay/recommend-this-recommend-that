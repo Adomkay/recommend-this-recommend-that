{
 "cells": [
  {
   "cell_type": "code",
   "execution_count": 1,
   "metadata": {},
   "outputs": [],
   "source": [
    "import pandas as pd\n",
    "import numpy as np\n",
    "import matplotlib as plt\n",
    "from py2neo import Graph\n",
    "\n",
    "%matplotlib inline"
   ]
  },
  {
   "cell_type": "code",
   "execution_count": 4,
   "metadata": {},
   "outputs": [],
   "source": [
    "graph = Graph('event_db2/installation-3.4.6/import', username = 'neo4j')"
   ]
  },
  {
   "cell_type": "code",
   "execution_count": 5,
   "metadata": {},
   "outputs": [
    {
     "data": {
      "text/plain": [
       "<Graph database=<Database uri='bolt://localhost:7687' secure=False user_agent='py2neo/4.1.0 neo4j-python/1.6.2 Python/3.6.5-final-0 (darwin)'> name='data'>"
      ]
     },
     "execution_count": 5,
     "metadata": {},
     "output_type": "execute_result"
    }
   ],
   "source": [
    "graph"
   ]
  },
  {
   "cell_type": "code",
   "execution_count": 7,
   "metadata": {},
   "outputs": [],
   "source": [
    "# Loading user-related data\n",
    "user = pd.read_csv('ml-100k 3/u.user', sep='|', header=None, names=['id','age','gender','occupation','zip code'])\n",
    "n_u = user.shape[0]\n",
    "\n",
    "# Loading genres of movies\n",
    "genre = pd.read_csv('ml-100k 3/u.genre', sep='|', header=None, names=['name', 'id'])\n",
    "n_g = genre.shape[0]\n",
    "\n",
    "# Loading item-related data\n",
    "# Format : id | title | release date | | IMDb url | \"genres\"\n",
    "# where \"genres\" is a vector of size n_g : genres[i]=1 if the movie belongs to genre i\n",
    "movie_col = ['id', 'title','release date', 'useless', 'IMDb url']\n",
    "movie_col = movie_col + genre['id'].tolist()\n",
    "movie = pd.read_csv('ml-100k 3/u.item', sep='|', header=None, names=movie_col, encoding='cp1252')\n",
    "movie = movie.fillna('unknown')\n",
    "n_m = movie.shape[0]\n",
    "\n",
    "# Loading ratings\n",
    "rating_col = ['user_id', 'item_id','rating', 'timestamp']\n",
    "rating = pd.read_csv('ml-100k 3/u.data', sep='\\t' ,header=None, names=rating_col)\n",
    "n_r = rating.shape[0]"
   ]
  },
  {
   "cell_type": "code",
   "execution_count": 9,
   "metadata": {},
   "outputs": [],
   "source": [
    "##### Create the nodes relative to Users, each one being identified by its user_id #####\n",
    "# \"MERGE\" request : creates a new node if it does not exist already\n",
    "tx = graph.begin()\n",
    "statement = \"MERGE (a:`User`{user_id:{A}}) RETURN a\"\n",
    "for u in user['id']:\n",
    "    tx.run(statement, {\"A\": u})\n",
    "\n",
    "tx.commit()\n",
    "\n",
    "\n",
    "##### Create the nodes relative to Genres, each one being identified by its genre_id, and with the property name #####\n",
    "tx = graph.begin()\n",
    "statement = \"MERGE (a:`Genre`{genre_id:{A}, name:{B}}) RETURN a\"\n",
    "for g,row in genre.iterrows() :\n",
    "    tx.run(statement, {\"A\": row.iloc[1], \"B\": row.iloc[0]})\n",
    "\n",
    "tx.commit()"
   ]
  },
  {
   "cell_type": "code",
   "execution_count": 18,
   "metadata": {},
   "outputs": [],
   "source": [
    "##### Create the Movie nodes with properties movie_id, title and url ; then create the Is_genre edges #####\n",
    "tx = graph.begin()\n",
    "statement1 = \"MERGE (a:`Movie`{movie_id:{A}, title:{B}, url:{C}}) RETURN a\"\n",
    "statement2 = (\"MATCH (t:`Genre`{genre_id:{D}}) \"\n",
    "              \"MATCH (a:`Movie`{movie_id:{A}, title:{B}, url:{C}}) MERGE (a)-[r:`Is_genre`]->(t) RETURN r\")\n",
    "\n",
    "# Looping over movies m\n",
    "for m,row in movie.iterrows() :\n",
    "    # Create \"Movie\" node\n",
    "    tx.run(statement1, {\"A\": row.loc['id'], \"B\": row.loc['title'], \"C\": row.loc['IMDb url']})\n",
    "    # is_genre : vector of size n_g, is_genre[i]=True if Movie m belongs to Genre i\n",
    "    is_genre = row.iloc[-19:]==1\n",
    "    related_genres = genre[is_genre].axes[0].values\n",
    "\n",
    "    # Looping over Genres g which satisfy the condition : is_genre[i]=True\n",
    "    for g in related_genres :\n",
    "        # Retrieve node corresponding to genre g, and create relation between g and m\n",
    "        tx.run(statement2,\\\n",
    "                  {\"A\": int(row.loc['id']), \"B\": row.loc['title'], \"C\": row.loc['IMDb url'], \"D\": int(g)})\n",
    "\n",
    "    # Every 100 movies, push queued statements to the server for execution to avoid one massive \"commit\"\n",
    "    if m%100==0 : tx.process()\n",
    "\n",
    "# End with a \"commit\"\n",
    "tx.commit()\n",
    "\n",
    "\n",
    "##### Create the Has_rated edges, with rating as property #####\n",
    "tx = graph.begin()\n",
    "statement = (\"MATCH (u:`User`{user_id:{A}}) \"\n",
    "             \"MATCH (m:`Movie`{movie_id:{C}}) MERGE (u)-[r:`Has_rated`{rating:{B}}]->(m) RETURN r\")\n",
    "\n",
    "# Looping over ratings\n",
    "for r,row in rating.iterrows() :\n",
    "    # Retrieve \"User\" and \"Movie\" nodes, and create relationship with the corresponding rating as property\n",
    "    tx.run(statement, {\"A\": int(row.loc['user_id']), \"B\": int(row.loc['rating']), \"C\": int(row.loc['item_id'])})\n",
    "    if r%100==0 : tx.process()\n",
    "\n",
    "tx.commit()\n"
   ]
  },
  {
   "cell_type": "code",
   "execution_count": 19,
   "metadata": {},
   "outputs": [
    {
     "data": {
      "text/plain": [
       "<py2neo.database.Cursor at 0x11504ff28>"
      ]
     },
     "execution_count": 19,
     "metadata": {},
     "output_type": "execute_result"
    }
   ],
   "source": [
    "#Create indexes on nodes for easy lookup\n",
    "graph.run('CREATE INDEX ON :User(user_id)')\n",
    "graph.run('CREATE INDEX ON :Movie(movie_id)')\n",
    "graph.run('CREATE INDEX ON :Genre(genre_id)')"
   ]
  },
  {
   "cell_type": "code",
   "execution_count": 33,
   "metadata": {},
   "outputs": [],
   "source": [
    "user_id = 8\n",
    "threshold = 0.5\n",
    "\n",
    "# In Strategy 1, the similarity between two users u1 and u2 is the proportion of movies they have in common\n",
    "# The score of one given movie m is the proportion of users similar to u1 who rated m\n",
    "\n",
    "query = (### Similarity normalization : count number of movies seen by u1 ###\n",
    "  # Count movies rated by u1 as countm\n",
    "  'MATCH (u1:`User` {user_id:{user_id}})-[:`Has_rated`]->(m1:`Movie`) '\n",
    "  'WITH count(m1) as countm '\n",
    "  ### Score normalization : count number of users who are considered similar to u1 ###\n",
    "  # Retrieve all users u2 who share at least one movie with u1\n",
    "  'MATCH (u1:`User` {user_id:{user_id}})-[:`Has_rated`]->(m1:`Movie`) '\n",
    "  'MATCH (m1)<-[r:`Has_rated`]-(u2:`User`) '\n",
    "  'WHERE NOT u2=u1 '\n",
    "  # Compute similarity\n",
    "  'WITH u2, countm, tofloat(count(r))/countm as sim '\n",
    "  # Keep users u2 whose similarity with u1 is above some threshold\n",
    "  'WHERE sim>{threshold} '\n",
    "  # Count number of similar users as countu\n",
    "  'WITH count(u2) as countu, countm '\n",
    "  ### Recommendation ###\n",
    "  # Retrieve all users u2 who share at least one movie with u1\n",
    "  'MATCH (u1:`User` {user_id:{user_id}})-[:`Has_rated`]->(m1:`Movie`) '\n",
    "  'MATCH (m1)<-[r:`Has_rated`]-(u2:`User`) '\n",
    "  'WHERE NOT u2=u1 '\n",
    "  # Compute similarity\n",
    "  'WITH u1, u2,countu, tofloat(count(r))/countm as sim '\n",
    "  # Keep users u2 whose similarity with u1 is above some threshold\n",
    "  'WHERE sim>{threshold} '\n",
    "  # Retrieve movies m that were rated by at least one similar user, but not by u1\n",
    "  'MATCH (m:`Movie`)<-[r:`Has_rated`]-(u2) '\n",
    "  'WHERE NOT (m)<-[:`Has_rated`]-(u1) '\n",
    "  # Compute score and return the list of suggestions ordered by score\n",
    "  'RETURN DISTINCT m, tofloat(count(r))/countu as score ORDER BY score DESC ')\n",
    "tx = graph.begin()\n",
    "tx.run(query, {'user_id': user_id, 'threshold': threshold})\n",
    "tx.commit()"
   ]
  },
  {
   "cell_type": "code",
   "execution_count": 32,
   "metadata": {},
   "outputs": [
    {
     "data": {
      "text/plain": [
       "<py2neo.database.Cursor at 0x1130f3908>"
      ]
     },
     "execution_count": 32,
     "metadata": {},
     "output_type": "execute_result"
    }
   ],
   "source": [
    "result"
   ]
  },
  {
   "cell_type": "code",
   "execution_count": null,
   "metadata": {},
   "outputs": [],
   "source": []
  }
 ],
 "metadata": {
  "kernelspec": {
   "display_name": "Python 3",
   "language": "python",
   "name": "python3"
  },
  "language_info": {
   "codemirror_mode": {
    "name": "ipython",
    "version": 3
   },
   "file_extension": ".py",
   "mimetype": "text/x-python",
   "name": "python",
   "nbconvert_exporter": "python",
   "pygments_lexer": "ipython3",
   "version": "3.6.5"
  }
 },
 "nbformat": 4,
 "nbformat_minor": 2
}
