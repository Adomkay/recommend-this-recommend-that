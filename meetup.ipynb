{
 "cells": [
  {
   "cell_type": "code",
   "execution_count": 1,
   "metadata": {},
   "outputs": [],
   "source": [
    "import pandas as pd\n",
    "import numpy as np\n",
    "import matplotlib as plt\n",
    "from py2neo import Graph\n",
    "\n",
    "%matplotlib inline"
   ]
  },
  {
   "cell_type": "code",
   "execution_count": 2,
   "metadata": {},
   "outputs": [],
   "source": [
    "groups = pd.read_csv('meetup/groups.csv')\n",
    "categories = pd.read_csv('meetup/categories.csv')\n",
    "cities = pd.read_csv('meetup/cities.csv')\n",
    "events = pd.read_csv('meetup/events.csv')\n",
    "members = pd.read_csv('meetup/members.csv',encoding='cp1252')\n",
    "topics = pd.read_csv('meetup/topics.csv', encoding='cp1252')\n",
    "venues = pd.read_csv('meetup/venues.csv', encoding='cp1252')\n",
    "group_topics = pd.read_csv('meetup/groups_topics.csv', encoding='cp1252')\n",
    "members_topics = pd.read_csv('meetup/members_topics.csv', encoding='cp1252')"
   ]
  },
  {
   "cell_type": "code",
   "execution_count": 3,
   "metadata": {},
   "outputs": [
    {
     "data": {
      "text/html": [
       "<div>\n",
       "<style scoped>\n",
       "    .dataframe tbody tr th:only-of-type {\n",
       "        vertical-align: middle;\n",
       "    }\n",
       "\n",
       "    .dataframe tbody tr th {\n",
       "        vertical-align: top;\n",
       "    }\n",
       "\n",
       "    .dataframe thead th {\n",
       "        text-align: right;\n",
       "    }\n",
       "</style>\n",
       "<table border=\"1\" class=\"dataframe\">\n",
       "  <thead>\n",
       "    <tr style=\"text-align: right;\">\n",
       "      <th></th>\n",
       "      <th>group_id</th>\n",
       "      <th>category_id</th>\n",
       "      <th>category.name</th>\n",
       "      <th>category.shortname</th>\n",
       "      <th>city_id</th>\n",
       "      <th>city</th>\n",
       "      <th>country</th>\n",
       "      <th>created</th>\n",
       "      <th>description</th>\n",
       "      <th>group_photo.base_url</th>\n",
       "      <th>...</th>\n",
       "      <th>organizer.photo.photo_link</th>\n",
       "      <th>organizer.photo.thumb_link</th>\n",
       "      <th>organizer.photo.type</th>\n",
       "      <th>rating</th>\n",
       "      <th>state</th>\n",
       "      <th>timezone</th>\n",
       "      <th>urlname</th>\n",
       "      <th>utc_offset</th>\n",
       "      <th>visibility</th>\n",
       "      <th>who</th>\n",
       "    </tr>\n",
       "  </thead>\n",
       "  <tbody>\n",
       "    <tr>\n",
       "      <th>0</th>\n",
       "      <td>6388</td>\n",
       "      <td>14</td>\n",
       "      <td>health/wellbeing</td>\n",
       "      <td>health-wellbeing</td>\n",
       "      <td>10001</td>\n",
       "      <td>New York</td>\n",
       "      <td>US</td>\n",
       "      <td>2002-11-21 16:50:46</td>\n",
       "      <td>Those who practice or hold a strong interest i...</td>\n",
       "      <td>https://secure.meetupstatic.com</td>\n",
       "      <td>...</td>\n",
       "      <td>https://secure.meetupstatic.com/photos/member/...</td>\n",
       "      <td>https://secure.meetupstatic.com/photos/member/...</td>\n",
       "      <td>member</td>\n",
       "      <td>4.39</td>\n",
       "      <td>NY</td>\n",
       "      <td>US/Eastern</td>\n",
       "      <td>alternative-health-nyc</td>\n",
       "      <td>-14400</td>\n",
       "      <td>public</td>\n",
       "      <td>Explorers of Health</td>\n",
       "    </tr>\n",
       "    <tr>\n",
       "      <th>1</th>\n",
       "      <td>6510</td>\n",
       "      <td>4</td>\n",
       "      <td>community/environment</td>\n",
       "      <td>community-environment</td>\n",
       "      <td>10001</td>\n",
       "      <td>New York</td>\n",
       "      <td>US</td>\n",
       "      <td>2003-05-20 14:48:54</td>\n",
       "      <td>The New York Alternative Energy Meetupis for t...</td>\n",
       "      <td>https://secure.meetupstatic.com</td>\n",
       "      <td>...</td>\n",
       "      <td>https://secure.meetupstatic.com/photos/member/...</td>\n",
       "      <td>https://secure.meetupstatic.com/photos/member/...</td>\n",
       "      <td>member</td>\n",
       "      <td>4.31</td>\n",
       "      <td>NY</td>\n",
       "      <td>US/Eastern</td>\n",
       "      <td>alternative-energy-meetup</td>\n",
       "      <td>-14400</td>\n",
       "      <td>public</td>\n",
       "      <td>Clean Energy Supporters</td>\n",
       "    </tr>\n",
       "    <tr>\n",
       "      <th>2</th>\n",
       "      <td>8458</td>\n",
       "      <td>26</td>\n",
       "      <td>pets/animals</td>\n",
       "      <td>pets-animals</td>\n",
       "      <td>10001</td>\n",
       "      <td>New York</td>\n",
       "      <td>US</td>\n",
       "      <td>2004-03-27 09:55:41</td>\n",
       "      <td>not_found</td>\n",
       "      <td>https://secure.meetupstatic.com</td>\n",
       "      <td>...</td>\n",
       "      <td>https://secure.meetupstatic.com/photos/member/...</td>\n",
       "      <td>https://secure.meetupstatic.com/photos/member/...</td>\n",
       "      <td>member</td>\n",
       "      <td>4.84</td>\n",
       "      <td>NY</td>\n",
       "      <td>US/Eastern</td>\n",
       "      <td>Animals</td>\n",
       "      <td>-14400</td>\n",
       "      <td>public</td>\n",
       "      <td>Animal Voices</td>\n",
       "    </tr>\n",
       "  </tbody>\n",
       "</table>\n",
       "<p>3 rows × 36 columns</p>\n",
       "</div>"
      ],
      "text/plain": [
       "   group_id  category_id          category.name     category.shortname  \\\n",
       "0      6388           14       health/wellbeing       health-wellbeing   \n",
       "1      6510            4  community/environment  community-environment   \n",
       "2      8458           26           pets/animals           pets-animals   \n",
       "\n",
       "   city_id      city country              created  \\\n",
       "0    10001  New York      US  2002-11-21 16:50:46   \n",
       "1    10001  New York      US  2003-05-20 14:48:54   \n",
       "2    10001  New York      US  2004-03-27 09:55:41   \n",
       "\n",
       "                                         description  \\\n",
       "0  Those who practice or hold a strong interest i...   \n",
       "1  The New York Alternative Energy Meetupis for t...   \n",
       "2                                          not_found   \n",
       "\n",
       "              group_photo.base_url           ...             \\\n",
       "0  https://secure.meetupstatic.com           ...              \n",
       "1  https://secure.meetupstatic.com           ...              \n",
       "2  https://secure.meetupstatic.com           ...              \n",
       "\n",
       "                          organizer.photo.photo_link  \\\n",
       "0  https://secure.meetupstatic.com/photos/member/...   \n",
       "1  https://secure.meetupstatic.com/photos/member/...   \n",
       "2  https://secure.meetupstatic.com/photos/member/...   \n",
       "\n",
       "                          organizer.photo.thumb_link organizer.photo.type  \\\n",
       "0  https://secure.meetupstatic.com/photos/member/...               member   \n",
       "1  https://secure.meetupstatic.com/photos/member/...               member   \n",
       "2  https://secure.meetupstatic.com/photos/member/...               member   \n",
       "\n",
       "  rating state    timezone                    urlname utc_offset  visibility  \\\n",
       "0   4.39    NY  US/Eastern     alternative-health-nyc     -14400      public   \n",
       "1   4.31    NY  US/Eastern  alternative-energy-meetup     -14400      public   \n",
       "2   4.84    NY  US/Eastern                    Animals     -14400      public   \n",
       "\n",
       "                       who  \n",
       "0      Explorers of Health  \n",
       "1  Clean Energy Supporters  \n",
       "2            Animal Voices  \n",
       "\n",
       "[3 rows x 36 columns]"
      ]
     },
     "execution_count": 3,
     "metadata": {},
     "output_type": "execute_result"
    }
   ],
   "source": [
    "groups.head(3)"
   ]
  },
  {
   "cell_type": "code",
   "execution_count": 9,
   "metadata": {},
   "outputs": [
    {
     "data": {
      "text/html": [
       "<div>\n",
       "<style scoped>\n",
       "    .dataframe tbody tr th:only-of-type {\n",
       "        vertical-align: middle;\n",
       "    }\n",
       "\n",
       "    .dataframe tbody tr th {\n",
       "        vertical-align: top;\n",
       "    }\n",
       "\n",
       "    .dataframe thead th {\n",
       "        text-align: right;\n",
       "    }\n",
       "</style>\n",
       "<table border=\"1\" class=\"dataframe\">\n",
       "  <thead>\n",
       "    <tr style=\"text-align: right;\">\n",
       "      <th></th>\n",
       "      <th>topic_id</th>\n",
       "      <th>description</th>\n",
       "      <th>link</th>\n",
       "      <th>members</th>\n",
       "      <th>topic_name</th>\n",
       "      <th>urlkey</th>\n",
       "      <th>main_topic_id</th>\n",
       "    </tr>\n",
       "  </thead>\n",
       "  <tbody>\n",
       "    <tr>\n",
       "      <th>0</th>\n",
       "      <td>83</td>\n",
       "      <td>Meet with others in your local area who are Sp...</td>\n",
       "      <td>http://sportsfans.meetup.com/</td>\n",
       "      <td>471594</td>\n",
       "      <td>Sports Fan</td>\n",
       "      <td>sportsfans</td>\n",
       "      <td>10451</td>\n",
       "    </tr>\n",
       "    <tr>\n",
       "      <th>1</th>\n",
       "      <td>130</td>\n",
       "      <td>Meet with Latin Music fans in your town.</td>\n",
       "      <td>http://latinmusic.meetup.com/</td>\n",
       "      <td>759757</td>\n",
       "      <td>Latin Music</td>\n",
       "      <td>latinmusic</td>\n",
       "      <td>15018</td>\n",
       "    </tr>\n",
       "    <tr>\n",
       "      <th>2</th>\n",
       "      <td>182</td>\n",
       "      <td>Want to practice your English? Meetup with oth...</td>\n",
       "      <td>http://esl.meetup.com/</td>\n",
       "      <td>3176752</td>\n",
       "      <td>English as a Second Language</td>\n",
       "      <td>esl</td>\n",
       "      <td>10454</td>\n",
       "    </tr>\n",
       "    <tr>\n",
       "      <th>3</th>\n",
       "      <td>183</td>\n",
       "      <td>Meet local Spanish language and culture lovers...</td>\n",
       "      <td>http://spanish.meetup.com/</td>\n",
       "      <td>1618673</td>\n",
       "      <td>Spanish Language</td>\n",
       "      <td>spanish</td>\n",
       "      <td>10454</td>\n",
       "    </tr>\n",
       "    <tr>\n",
       "      <th>4</th>\n",
       "      <td>184</td>\n",
       "      <td>Meet and mingle with local Italian language an...</td>\n",
       "      <td>http://italian.meetup.com/</td>\n",
       "      <td>465231</td>\n",
       "      <td>Italian Language</td>\n",
       "      <td>italian</td>\n",
       "      <td>10454</td>\n",
       "    </tr>\n",
       "  </tbody>\n",
       "</table>\n",
       "</div>"
      ],
      "text/plain": [
       "   topic_id                                        description  \\\n",
       "0        83  Meet with others in your local area who are Sp...   \n",
       "1       130           Meet with Latin Music fans in your town.   \n",
       "2       182  Want to practice your English? Meetup with oth...   \n",
       "3       183  Meet local Spanish language and culture lovers...   \n",
       "4       184  Meet and mingle with local Italian language an...   \n",
       "\n",
       "                            link  members                    topic_name  \\\n",
       "0  http://sportsfans.meetup.com/   471594                    Sports Fan   \n",
       "1  http://latinmusic.meetup.com/   759757                   Latin Music   \n",
       "2         http://esl.meetup.com/  3176752  English as a Second Language   \n",
       "3     http://spanish.meetup.com/  1618673              Spanish Language   \n",
       "4     http://italian.meetup.com/   465231              Italian Language   \n",
       "\n",
       "       urlkey  main_topic_id  \n",
       "0  sportsfans          10451  \n",
       "1  latinmusic          15018  \n",
       "2         esl          10454  \n",
       "3     spanish          10454  \n",
       "4     italian          10454  "
      ]
     },
     "execution_count": 9,
     "metadata": {},
     "output_type": "execute_result"
    }
   ],
   "source": [
    "topics.head()"
   ]
  },
  {
   "cell_type": "code",
   "execution_count": 10,
   "metadata": {},
   "outputs": [
    {
     "data": {
      "text/html": [
       "<div>\n",
       "<style scoped>\n",
       "    .dataframe tbody tr th:only-of-type {\n",
       "        vertical-align: middle;\n",
       "    }\n",
       "\n",
       "    .dataframe tbody tr th {\n",
       "        vertical-align: top;\n",
       "    }\n",
       "\n",
       "    .dataframe thead th {\n",
       "        text-align: right;\n",
       "    }\n",
       "</style>\n",
       "<table border=\"1\" class=\"dataframe\">\n",
       "  <thead>\n",
       "    <tr style=\"text-align: right;\">\n",
       "      <th></th>\n",
       "      <th>venue_id</th>\n",
       "      <th>address_1</th>\n",
       "      <th>city</th>\n",
       "      <th>country</th>\n",
       "      <th>distance</th>\n",
       "      <th>lat</th>\n",
       "      <th>localized_country_name</th>\n",
       "      <th>lon</th>\n",
       "      <th>venue_name</th>\n",
       "      <th>rating</th>\n",
       "      <th>rating_count</th>\n",
       "      <th>state</th>\n",
       "      <th>zip</th>\n",
       "      <th>normalised_rating</th>\n",
       "    </tr>\n",
       "  </thead>\n",
       "  <tbody>\n",
       "    <tr>\n",
       "      <th>0</th>\n",
       "      <td>5286</td>\n",
       "      <td>424 Park Ave S</td>\n",
       "      <td>New York</td>\n",
       "      <td>us</td>\n",
       "      <td>0.0</td>\n",
       "      <td>40.744259</td>\n",
       "      <td>USA</td>\n",
       "      <td>-73.983749</td>\n",
       "      <td>Starbucks Coffee</td>\n",
       "      <td>4.00</td>\n",
       "      <td>51.0</td>\n",
       "      <td>NY</td>\n",
       "      <td>10016</td>\n",
       "      <td>3.92</td>\n",
       "    </tr>\n",
       "    <tr>\n",
       "      <th>1</th>\n",
       "      <td>5293</td>\n",
       "      <td>Union Square</td>\n",
       "      <td>New York</td>\n",
       "      <td>us</td>\n",
       "      <td>0.0</td>\n",
       "      <td>40.731390</td>\n",
       "      <td>USA</td>\n",
       "      <td>-73.988400</td>\n",
       "      <td>Virgin Megastore (cafe)</td>\n",
       "      <td>2.83</td>\n",
       "      <td>109.0</td>\n",
       "      <td>NY</td>\n",
       "      <td>10003</td>\n",
       "      <td>2.80</td>\n",
       "    </tr>\n",
       "    <tr>\n",
       "      <th>2</th>\n",
       "      <td>8356</td>\n",
       "      <td>141 West 72nd St.</td>\n",
       "      <td>New York</td>\n",
       "      <td>us</td>\n",
       "      <td>0.0</td>\n",
       "      <td>40.778275</td>\n",
       "      <td>USA</td>\n",
       "      <td>-73.980095</td>\n",
       "      <td>Krispy Kreme Doughnuts</td>\n",
       "      <td>2.11</td>\n",
       "      <td>18.0</td>\n",
       "      <td>NY</td>\n",
       "      <td>10028</td>\n",
       "      <td>2.00</td>\n",
       "    </tr>\n",
       "  </tbody>\n",
       "</table>\n",
       "</div>"
      ],
      "text/plain": [
       "   venue_id          address_1      city country  distance        lat  \\\n",
       "0      5286     424 Park Ave S  New York      us       0.0  40.744259   \n",
       "1      5293       Union Square  New York      us       0.0  40.731390   \n",
       "2      8356  141 West 72nd St.  New York      us       0.0  40.778275   \n",
       "\n",
       "  localized_country_name        lon               venue_name  rating  \\\n",
       "0                    USA -73.983749         Starbucks Coffee    4.00   \n",
       "1                    USA -73.988400  Virgin Megastore (cafe)    2.83   \n",
       "2                    USA -73.980095   Krispy Kreme Doughnuts    2.11   \n",
       "\n",
       "   rating_count state    zip  normalised_rating  \n",
       "0          51.0    NY  10016               3.92  \n",
       "1         109.0    NY  10003               2.80  \n",
       "2          18.0    NY  10028               2.00  "
      ]
     },
     "execution_count": 10,
     "metadata": {},
     "output_type": "execute_result"
    }
   ],
   "source": [
    "venues.head(3)"
   ]
  },
  {
   "cell_type": "code",
   "execution_count": 21,
   "metadata": {},
   "outputs": [],
   "source": [
    "group_ids = [\"263790\", \"9226282\", \"1034045\", \"107592\"]\n",
    "group_ids = [int(item) for item in group_ids]"
   ]
  },
  {
   "cell_type": "code",
   "execution_count": 38,
   "metadata": {},
   "outputs": [],
   "source": [
    "groups1 = groups[(groups['group_id'] == 263790) | (groups['group_id'] == 9226282) | (groups['group_id'] == 107592)]"
   ]
  },
  {
   "cell_type": "code",
   "execution_count": 91,
   "metadata": {},
   "outputs": [],
   "source": [
    "groups1.to_csv('groups1.csv')"
   ]
  },
  {
   "cell_type": "code",
   "execution_count": 40,
   "metadata": {},
   "outputs": [],
   "source": [
    "members1 = members[(members['group_id'] == 263790) | (members['group_id'] == 9226282) | (members['group_id'] == 107592)]"
   ]
  },
  {
   "cell_type": "code",
   "execution_count": 92,
   "metadata": {},
   "outputs": [],
   "source": [
    "members1.to_csv('members1.csv')"
   ]
  },
  {
   "cell_type": "code",
   "execution_count": 43,
   "metadata": {},
   "outputs": [],
   "source": [
    "group_topics1 = group_topics[(group_topics['group_id'] == 263790) | (group_topics['group_id'] == 9226282) | (group_topics['group_id'] == 107592)] "
   ]
  },
  {
   "cell_type": "code",
   "execution_count": 95,
   "metadata": {},
   "outputs": [],
   "source": [
    "group_topics1.to_csv('group_topics1.csv')"
   ]
  },
  {
   "cell_type": "code",
   "execution_count": 80,
   "metadata": {},
   "outputs": [],
   "source": [
    "df_list = []\n",
    "\n",
    "for i in range(0, len(members1['member_id']+1)):\n",
    "    member_topics1 = members_topics[members_topics['member_id'] == members1['member_id'].iloc[i]]\n",
    "    df = pd.concat([df, member_topics1]).reset_index(drop = True)"
   ]
  },
  {
   "cell_type": "code",
   "execution_count": 90,
   "metadata": {},
   "outputs": [],
   "source": [
    "members_topics1 = df"
   ]
  },
  {
   "cell_type": "code",
   "execution_count": 74,
   "metadata": {},
   "outputs": [],
   "source": [
    "member_topics1 = members_topics[members_topics['member_id'] == members1['member_id'].iloc[5]]"
   ]
  },
  {
   "cell_type": "code",
   "execution_count": 96,
   "metadata": {},
   "outputs": [],
   "source": [
    "members_topics1.to_csv('members_topics1.csv')"
   ]
  },
  {
   "cell_type": "code",
   "execution_count": 98,
   "metadata": {},
   "outputs": [],
   "source": [
    "events_new = events[events[(events['group_id'] == 263790) | (events['group_id'] == 9226282) | (events['group_id'] == 107592)]]"
   ]
  },
  {
   "cell_type": "code",
   "execution_count": 103,
   "metadata": {
    "scrolled": true
   },
   "outputs": [
    {
     "data": {
      "text/html": [
       "<div>\n",
       "<style scoped>\n",
       "    .dataframe tbody tr th:only-of-type {\n",
       "        vertical-align: middle;\n",
       "    }\n",
       "\n",
       "    .dataframe tbody tr th {\n",
       "        vertical-align: top;\n",
       "    }\n",
       "\n",
       "    .dataframe thead th {\n",
       "        text-align: right;\n",
       "    }\n",
       "</style>\n",
       "<table border=\"1\" class=\"dataframe\">\n",
       "  <thead>\n",
       "    <tr style=\"text-align: right;\">\n",
       "      <th></th>\n",
       "      <th>topic_id</th>\n",
       "      <th>topic_key</th>\n",
       "      <th>topic_name</th>\n",
       "      <th>member_id</th>\n",
       "    </tr>\n",
       "  </thead>\n",
       "  <tbody>\n",
       "    <tr>\n",
       "      <th>0</th>\n",
       "      <td>1502</td>\n",
       "      <td>Art</td>\n",
       "      <td>art</td>\n",
       "      <td>240771009</td>\n",
       "    </tr>\n",
       "    <tr>\n",
       "      <th>1</th>\n",
       "      <td>9696</td>\n",
       "      <td>New Technology</td>\n",
       "      <td>newtech</td>\n",
       "      <td>240771009</td>\n",
       "    </tr>\n",
       "  </tbody>\n",
       "</table>\n",
       "</div>"
      ],
      "text/plain": [
       "   topic_id       topic_key topic_name  member_id\n",
       "0      1502             Art        art  240771009\n",
       "1      9696  New Technology    newtech  240771009"
      ]
     },
     "execution_count": 103,
     "metadata": {},
     "output_type": "execute_result"
    }
   ],
   "source": [
    "members_topics1.head(2)"
   ]
  },
  {
   "cell_type": "code",
   "execution_count": null,
   "metadata": {},
   "outputs": [],
   "source": [
    "df1 = pd.concat(df_list).reset_index(drop = True)\n",
    "df_list = []"
   ]
  },
  {
   "cell_type": "code",
   "execution_count": 106,
   "metadata": {},
   "outputs": [],
   "source": [
    "df_list = []\n",
    "for i in range(0, len(members_topics1['topic_id']+1)):\n",
    "    topics = topics[topics['topic_id'] == members_topics1['topic_id'].iloc[i]]\n",
    "    df1 = pd.concat([df1, topics]).reset_index(drop = True)\n",
    "   "
   ]
  },
  {
   "cell_type": "code",
   "execution_count": 105,
   "metadata": {},
   "outputs": [
    {
     "data": {
      "text/html": [
       "<div>\n",
       "<style scoped>\n",
       "    .dataframe tbody tr th:only-of-type {\n",
       "        vertical-align: middle;\n",
       "    }\n",
       "\n",
       "    .dataframe tbody tr th {\n",
       "        vertical-align: top;\n",
       "    }\n",
       "\n",
       "    .dataframe thead th {\n",
       "        text-align: right;\n",
       "    }\n",
       "</style>\n",
       "<table border=\"1\" class=\"dataframe\">\n",
       "  <thead>\n",
       "    <tr style=\"text-align: right;\">\n",
       "      <th></th>\n",
       "      <th>topic_id</th>\n",
       "      <th>description</th>\n",
       "      <th>link</th>\n",
       "      <th>members</th>\n",
       "      <th>topic_name</th>\n",
       "      <th>urlkey</th>\n",
       "      <th>main_topic_id</th>\n",
       "    </tr>\n",
       "  </thead>\n",
       "  <tbody>\n",
       "  </tbody>\n",
       "</table>\n",
       "</div>"
      ],
      "text/plain": [
       "Empty DataFrame\n",
       "Columns: [topic_id, description, link, members, topic_name, urlkey, main_topic_id]\n",
       "Index: []"
      ]
     },
     "execution_count": 105,
     "metadata": {},
     "output_type": "execute_result"
    }
   ],
   "source": []
  },
  {
   "cell_type": "code",
   "execution_count": null,
   "metadata": {},
   "outputs": [],
   "source": []
  }
 ],
 "metadata": {
  "kernelspec": {
   "display_name": "Python 3",
   "language": "python",
   "name": "python3"
  },
  "language_info": {
   "codemirror_mode": {
    "name": "ipython",
    "version": 3
   },
   "file_extension": ".py",
   "mimetype": "text/x-python",
   "name": "python",
   "nbconvert_exporter": "python",
   "pygments_lexer": "ipython3",
   "version": "3.6.5"
  }
 },
 "nbformat": 4,
 "nbformat_minor": 2
}
